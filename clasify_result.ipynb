{
 "cells": [
  {
   "cell_type": "code",
   "execution_count": 1,
   "metadata": {},
   "outputs": [
    {
     "name": "stderr",
     "output_type": "stream",
     "text": [
      "Using TensorFlow backend.\n"
     ]
    }
   ],
   "source": [
    "#importing necessary packages\n",
    "from keras.models import load_model\n",
    "import cv2\n",
    "import numpy as np\n",
    "import matplotlib.pyplot as plt\n",
    "import matplotlib.image as mpimg\n",
    "import tensorflow as tf\n",
    "%matplotlib inline"
   ]
  },
  {
   "cell_type": "code",
   "execution_count": 2,
   "metadata": {},
   "outputs": [
    {
     "name": "stdout",
     "output_type": "stream",
     "text": [
      "<keras.engine.sequential.Sequential object at 0x00000223F8874448>\n"
     ]
    }
   ],
   "source": [
    "#Loading the saved model\n",
    "model1 = load_model('hand_emoji_v5.h5')\n",
    "print(model1)"
   ]
  },
  {
   "cell_type": "code",
   "execution_count": 3,
   "metadata": {},
   "outputs": [],
   "source": [
    "#method for preprocessing image\n",
    "def keras_process_image(img):\n",
    "    image_x = 50\n",
    "    image_y = 50\n",
    "\n",
    "    # Converting from BGR Colours Space to HSV\n",
    "    img =  cv2.cvtColor(img,cv2.COLOR_BGR2HSV)\n",
    "\n",
    "    # Defining HSV Threadholds\n",
    "    lower_threshold = np.array([0, 48, 80], dtype=np.uint8)\n",
    "    upper_threshold = np.array([20, 255, 255], dtype=np.uint8)\n",
    "\n",
    "    # Single Channel mask,denoting presence of colours in the about threshold\n",
    "    skinMask = cv2.inRange(img,lower_threshold,upper_threshold)\n",
    "\n",
    "    # Cleaning up mask using Gaussian Filter\n",
    "    skinMask = cv2.GaussianBlur(skinMask,(3,3),0)\n",
    "\n",
    "    # Extracting skin from the threshold mask\n",
    "    skin  =  cv2.bitwise_and(img,img,mask=skinMask)\n",
    "    \n",
    "    skin = cv2.cvtColor(skin, cv2.COLOR_BGR2GRAY)\n",
    "    (thresh, skin) = cv2.threshold(skin, 128, 255, cv2.THRESH_BINARY | cv2.THRESH_OTSU)\n",
    "    #cv2.imwrite('IMG.jpg', skin)\n",
    "    \n",
    "    #resizing the input image just to be sure\n",
    "    img = cv2.resize(skin, (image_x, image_y)) \n",
    "    kernel = np.ones((2,2),np.uint8)\n",
    "    img = cv2.dilate(img, kernel,iterations = 2)\n",
    "    img = cv2.erode(img, kernel,iterations = 1)\n",
    "    \n",
    "    \n",
    "    #cv2.imwrite('IMG.jpg', img)\n",
    "    \n",
    "    img1 = np.array(img, dtype=np.float32)\n",
    "    img1 = np.reshape(img1, (1, image_x, image_y, -1))\n",
    "    #print(img.shape)\n",
    "    return img, img1\n",
    "\n",
    "#This method takes model and image as input and returns its maximum probability of the image being in a particular class and the class\n",
    "def keras_predict(model, image):\n",
    "    processed = image\n",
    "    pred_prob = model.predict(processed)[0]\n",
    "    pred_class = list(pred_prob).index(max(pred_prob))\n",
    "    return max(pred_prob), pred_class"
   ]
  },
  {
   "cell_type": "code",
   "execution_count": 4,
   "metadata": {},
   "outputs": [],
   "source": [
    "#dictionary of all the classes\n",
    "letter_count = {0:'error', 1:'one', 2:'victory', 3:'ok', 4:'high-five', 5:'rock', 6:'call-me', 7:'vulcan-salute', 8:'thumbs-up', 9:'dog', 10:'fist', 11:'point-up'}"
   ]
  },
  {
   "cell_type": "markdown",
   "metadata": {},
   "source": [
    "# Output through webcam"
   ]
  },
  {
   "cell_type": "code",
   "execution_count": null,
   "metadata": {},
   "outputs": [],
   "source": [
    "cap = cv2.VideoCapture(0)\n",
    "\n",
    "while(1):\n",
    "    _, img = cap.read()\n",
    "    img = cv2.flip(img,1)\n",
    "    contour = img[:,320:]\n",
    "    contour = cv2.resize(contour,(100,100))\n",
    "    image, img_data = keras_process_image(contour)\n",
    "    #cv2.imwrite('newimg'+str(i)+'.jpg', img_data)\n",
    "    prob, cla = keras_predict(model1, img_data)\n",
    "    img = cv2.cvtColor(img, cv2.COLOR_BGR2GRAY)#img\n",
    "    mask = cv2.imread('hand_emo/'+str(cla)+'.png',0)\n",
    "    mask = cv2.flip(mask,1)\n",
    "    mask = cv2.resize(mask,(200,200))\n",
    "    invmask = cv2.bitwise_not(mask)\n",
    "    rows, cols = mask.shape    \n",
    "    \n",
    "    roi = img[260:rows+260,0:cols]\n",
    "    img1_bg = cv2.bitwise_and(roi,roi,mask=mask)\n",
    "    img1_fg = cv2.bitwise_and(mask, mask, mask=invmask)\n",
    "    \n",
    "    dst = cv2.add(img1_bg,img1_fg)\n",
    "    img[260:rows+260,0:cols] = dst\n",
    "    cv2.imshow(\"image\",img)\n",
    "    cv2.imshow(\"contour\",image)\n",
    "    k = cv2.waitKey(5) & 0xFF\n",
    "    if k == 27:\n",
    "        break\n",
    "\n",
    "cv2.destroyAllWindows()\n",
    "cap.release()\n",
    "\n",
    "# check the contour if it shows the hand's gesture in white and everything else in black then its good or else change the background and lighting"
   ]
  },
  {
   "cell_type": "markdown",
   "metadata": {},
   "source": [
    "# Getting output through taking image input manually through imread"
   ]
  },
  {
   "cell_type": "code",
   "execution_count": 5,
   "metadata": {},
   "outputs": [
    {
     "data": {
      "image/png": "[encoded data removed]",
      "text/plain": [
       "<Figure size 432x288 with 1 Axes>"
      ]
     },
     "metadata": {
      "needs_background": "light"
     },
     "output_type": "display_data"
    },
    {
     "data": {
      "image/png": "[encoded data removed]",
      "text/plain": [
       "<Figure size 432x288 with 1 Axes>"
      ]
     },
     "metadata": {
      "needs_background": "light"
     },
     "output_type": "display_data"
    },
    {
     "data": {
      "image/png": "[encoded data removed]",
      "text/plain": [
       "<Figure size 432x288 with 1 Axes>"
      ]
     },
     "metadata": {
      "needs_background": "light"
     },
     "output_type": "display_data"
    },
    {
     "data": {
      "image/png": "[encoded data removed]",
      "text/plain": [
       "<Figure size 432x288 with 1 Axes>"
      ]
     },
     "metadata": {
      "needs_background": "light"
     },
     "output_type": "display_data"
    },
    {
     "data": {
      "image/png": "[encoded data removed]",
      "text/plain": [
       "<Figure size 432x288 with 1 Axes>"
      ]
     },
     "metadata": {
      "needs_background": "light"
     },
     "output_type": "display_data"
    },
    {
     "data": {
      "image/png": "[encoded data removed]",
      "text/plain": [
       "<Figure size 432x288 with 1 Axes>"
      ]
     },
     "metadata": {
      "needs_background": "light"
     },
     "output_type": "display_data"
    },
    {
     "data": {
      "image/png": "[encoded data removed]",
      "text/plain": [
       "<Figure size 432x288 with 1 Axes>"
      ]
     },
     "metadata": {
      "needs_background": "light"
     },
     "output_type": "display_data"
    },
    {
     "data": {
      "image/png": "[encoded data removed]",
      "text/plain": [
       "<Figure size 432x288 with 1 Axes>"
      ]
     },
     "metadata": {
      "needs_background": "light"
     },
     "output_type": "display_data"
    }
   ],
   "source": [
    "for i in range(8):\n",
    "    image = cv2.imread(\"IMG_\"+str(i)+\".jpg\")\n",
    "    image, img_data = keras_process_image(image)\n",
    "    cv2.imwrite('newimg'+str(i)+'.jpg', img_data)\n",
    "    prob, cla = keras_predict(model1, img_data)\n",
    "    plt.figure(i+1)\n",
    "    plt.subplot(181+i)\n",
    "    plt.imshow(image, cmap = plt.cm.binary)\n",
    "    plt.title(letter_count[cla])\n",
    "    \n",
    "    #letter_count[pred_class] is getting the tag from the dictionary and saving the image with its name\n",
    "    #cv2.imwrite(\"newimg_\"+letter_count[pred_class]+\".jpg\",image)\n",
    "    #print(letter_count[pred_class])\n",
    "    "
   ]
  },
  {
   "cell_type": "code",
   "execution_count": null,
   "metadata": {},
   "outputs": [],
   "source": []
  },
  {
   "cell_type": "code",
   "execution_count": null,
   "metadata": {},
   "outputs": [],
   "source": []
  }
 ],
 "metadata": {
  "kernelspec": {
   "display_name": "Python 3",
   "language": "python",
   "name": "python3"
  },
  "language_info": {
   "codemirror_mode": {
    "name": "ipython",
    "version": 3
   },
   "file_extension": ".py",
   "mimetype": "text/x-python",
   "name": "python",
   "nbconvert_exporter": "python",
   "pygments_lexer": "ipython3",
   "version": "3.7.5"
  }
 },
 "nbformat": 4,
 "nbformat_minor": 2
}
